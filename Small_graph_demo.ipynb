{
 "cells": [
  {
   "cell_type": "code",
   "execution_count": 0,
   "metadata": {
    "colab": {},
    "colab_type": "code",
    "id": "89ZZYI3GZsUO"
   },
   "outputs": [],
   "source": [
    "#credits to prof Erinaki Magdalini\n",
    "import networkx as nx\n",
    "import matplotlib.pyplot as plt\n",
    "\n",
    "#G = nx.Graph()\n",
    "G = nx.DiGraph()"
   ]
  },
  {
   "cell_type": "code",
   "execution_count": 0,
   "metadata": {
    "colab": {},
    "colab_type": "code",
    "id": "-frIiVbdZsUd"
   },
   "outputs": [],
   "source": [
    "#G.add_node(1)\n",
    "G.add_nodes_from([1,3])"
   ]
  },
  {
   "cell_type": "code",
   "execution_count": 0,
   "metadata": {
    "colab": {},
    "colab_type": "code",
    "id": "THKWuRPuZsUj"
   },
   "outputs": [],
   "source": [
    "  G.add_edges_from([(1,2),(1,3),(2,1), (2,3), (3,2)])"
   ]
  },
  {
   "cell_type": "code",
   "execution_count": 28,
   "metadata": {
    "colab": {
     "base_uri": "https://localhost:8080/",
     "height": 517
    },
    "colab_type": "code",
    "id": "sO5AWgg9ZsUq",
    "outputId": "4ff47983-29fd-4534-bfc0-b0d5a2f81d11"
   },
   "outputs": [
    {
     "name": "stdout",
     "output_type": "stream",
     "text": [
      "Node Degree\n",
      "1 3\n",
      "3 3\n",
      "2 4\n"
     ]
    },
    {
     "data": {
      "image/png": "[encoded data removed]",
      "text/plain": [
       "<matplotlib.figure.Figure at 0x7faeecad9e10>"
      ]
     },
     "metadata": {
      "tags": []
     },
     "output_type": "display_data"
    }
   ],
   "source": [
    "print(\"Node Degree\")\n",
    "for v in G:\n",
    "    print('%s %s' % (v, G.degree(v)))\n",
    "\n",
    "nx.draw_circular(G, with_labels=True)\n",
    "#nx.draw_random(G, with_labels=True)\n",
    "#nx.draw_spectral(G, with_labels=True)\n",
    "plt.show()"
   ]
  },
  {
   "cell_type": "code",
   "execution_count": 29,
   "metadata": {
    "colab": {
     "base_uri": "https://localhost:8080/",
     "height": 54
    },
    "colab_type": "code",
    "id": "HylfgKWuZsU0",
    "outputId": "fc536884-3334-4d32-f448-001619dc0a55"
   },
   "outputs": [
    {
     "name": "stdout",
     "output_type": "stream",
     "text": [
      "Degree Centrality\n",
      "{1: 1.0, 3: 0.5, 2: 1.0}\n"
     ]
    }
   ],
   "source": [
    "dc = nx.out_degree_centrality(G)\n",
    "\n",
    "print(\"Degree Centrality\")\n",
    "print('%s' % dc)"
   ]
  },
  {
   "cell_type": "code",
   "execution_count": 30,
   "metadata": {
    "colab": {
     "base_uri": "https://localhost:8080/",
     "height": 54
    },
    "colab_type": "code",
    "id": "3drFL8AIZsU6",
    "outputId": "7a87986d-f710-4e0b-cfd3-831d8a90b5b0"
   },
   "outputs": [
    {
     "name": "stdout",
     "output_type": "stream",
     "text": [
      "Betweeness Centrality\n",
      "{1: 0.0, 3: 0.0, 2: 0.5}\n"
     ]
    }
   ],
   "source": [
    "bc = nx.betweenness_centrality(G)\n",
    "\n",
    "print(\"Betweeness Centrality\")\n",
    "print('%s' % bc)"
   ]
  },
  {
   "cell_type": "code",
   "execution_count": 31,
   "metadata": {
    "colab": {
     "base_uri": "https://localhost:8080/",
     "height": 54
    },
    "colab_type": "code",
    "id": "dwH1LavwZsU_",
    "outputId": "e667e5d1-e165-4c23-c5c2-825687ac00ee"
   },
   "outputs": [
    {
     "name": "stdout",
     "output_type": "stream",
     "text": [
      "Node PageRank\n",
      "{1: 0.22222264607747394, 3: 0.3333333333333333, 2: 0.4444440205891927}\n"
     ]
    }
   ],
   "source": [
    "pr = nx.pagerank(G, alpha=1)\n",
    "    \n",
    "print(\"Node PageRank\")\n",
    "print('%s' % pr)"
   ]
  },
  {
   "cell_type": "code",
   "execution_count": 32,
   "metadata": {
    "colab": {
     "base_uri": "https://localhost:8080/",
     "height": 54
    },
    "colab_type": "code",
    "id": "WHSZV3KIZsVD",
    "outputId": "ffeddce3-87d1-4454-c137-82b001c178e5"
   },
   "outputs": [
    {
     "name": "stdout",
     "output_type": "stream",
     "text": [
      "Node PageRank\n",
      "{1: 0.23391786363002048, 3: 0.33333333333333337, 2: 0.43274880303664626}\n"
     ]
    }
   ],
   "source": [
    "pr = nx.pagerank(G, alpha=0.85)\n",
    "    \n",
    "print(\"Node PageRank\")\n",
    "print('%s' % pr)"
   ]
  },
  {
   "cell_type": "code",
   "execution_count": 0,
   "metadata": {
    "colab": {},
    "colab_type": "code",
    "id": "G_pAp91lbWsS"
   },
   "outputs": [],
   "source": []
  }
 ],
 "metadata": {
  "colab": {
   "name": "Small graph - demo.ipynb",
   "provenance": [],
   "version": "0.3.2"
  },
  "kernelspec": {
   "display_name": "Python 3",
   "language": "python",
   "name": "python3"
  },
  "language_info": {
   "codemirror_mode": {
    "name": "ipython",
    "version": 3
   },
   "file_extension": ".py",
   "mimetype": "text/x-python",
   "name": "python",
   "nbconvert_exporter": "python",
   "pygments_lexer": "ipython3",
   "version": "3.6.5"
  }
 },
 "nbformat": 4,
 "nbformat_minor": 1
}
