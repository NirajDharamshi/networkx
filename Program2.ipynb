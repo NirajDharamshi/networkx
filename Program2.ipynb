{
 "cells": [
  {
   "cell_type": "code",
   "execution_count": 0,
   "metadata": {
    "colab": {},
    "colab_type": "code",
    "id": "xrHG8y5Rmow4"
   },
   "outputs": [],
   "source": [
    "#importing networkx and pandas libraries\n",
    "import networkx as nx\n",
    "import pandas as pd"
   ]
  },
  {
   "cell_type": "markdown",
   "metadata": {
    "colab_type": "text",
    "id": "scXB8j1Yuvvq"
   },
   "source": [
    "### Dataset:\n",
    "\n",
    "The network was generated using email data from a large European research institution. We have anonymized information about all incoming and outgoing email between members of the research institution. There is an edge (u, v) in the network if person u sent person v at least one email. The e-mails only represent communication between institution members (the core), and the dataset does not contain incoming messages from or outgoing messages to the rest of the world.\n",
    "\n",
    "The dataset also contains \"ground-truth\" community memberships of the nodes. Each individual belongs to exactly one of 42 departments at the research institute.\n",
    "\n",
    "This network represents the \"core\" of the email-EuAll network, which also contains links between members of the institution and people outside of the institution (although the node IDs are not the same).\n",
    "\n",
    "[Dataset Link](http://snap.stanford.edu/data/email-Eu-core.html)"
   ]
  },
  {
   "cell_type": "code",
   "execution_count": 0,
   "metadata": {
    "colab": {},
    "colab_type": "code",
    "id": "A2cAI-lXmow_"
   },
   "outputs": [],
   "source": [
    "#reading dataset file into pandas dataframe\n",
    "df=pd.read_csv('email-Eu-core.txt',sep=' ',header=None,names=['Node1','Node2'])"
   ]
  },
  {
   "cell_type": "code",
   "execution_count": 0,
   "metadata": {
    "colab": {
     "base_uri": "https://localhost:8080/",
     "height": 198
    },
    "colab_type": "code",
    "id": "7KuawGhe5-Lk",
    "outputId": "abd69182-6051-4fc2-af97-1277bb2ee2d5"
   },
   "outputs": [
    {
     "data": {
      "text/html": [
       "<div>\n",
       "<style scoped>\n",
       "    .dataframe tbody tr th:only-of-type {\n",
       "        vertical-align: middle;\n",
       "    }\n",
       "\n",
       "    .dataframe tbody tr th {\n",
       "        vertical-align: top;\n",
       "    }\n",
       "\n",
       "    .dataframe thead th {\n",
       "        text-align: right;\n",
       "    }\n",
       "</style>\n",
       "<table border=\"1\" class=\"dataframe\">\n",
       "  <thead>\n",
       "    <tr style=\"text-align: right;\">\n",
       "      <th></th>\n",
       "      <th>Node1</th>\n",
       "      <th>Node2</th>\n",
       "    </tr>\n",
       "  </thead>\n",
       "  <tbody>\n",
       "    <tr>\n",
       "      <th>0</th>\n",
       "      <td>0</td>\n",
       "      <td>1</td>\n",
       "    </tr>\n",
       "    <tr>\n",
       "      <th>1</th>\n",
       "      <td>2</td>\n",
       "      <td>3</td>\n",
       "    </tr>\n",
       "    <tr>\n",
       "      <th>2</th>\n",
       "      <td>2</td>\n",
       "      <td>4</td>\n",
       "    </tr>\n",
       "    <tr>\n",
       "      <th>3</th>\n",
       "      <td>5</td>\n",
       "      <td>6</td>\n",
       "    </tr>\n",
       "    <tr>\n",
       "      <th>4</th>\n",
       "      <td>5</td>\n",
       "      <td>7</td>\n",
       "    </tr>\n",
       "  </tbody>\n",
       "</table>\n",
       "</div>"
      ],
      "text/plain": [
       "   Node1  Node2\n",
       "0      0      1\n",
       "1      2      3\n",
       "2      2      4\n",
       "3      5      6\n",
       "4      5      7"
      ]
     },
     "execution_count": 35,
     "metadata": {
      "tags": []
     },
     "output_type": "execute_result"
    }
   ],
   "source": [
    "df.head()"
   ]
  },
  {
   "cell_type": "code",
   "execution_count": 0,
   "metadata": {
    "colab": {},
    "colab_type": "code",
    "id": "NwND6R83moxE"
   },
   "outputs": [],
   "source": [
    " #Creating Directed Graph Instance\n",
    "DG = nx.DiGraph()"
   ]
  },
  {
   "cell_type": "code",
   "execution_count": 0,
   "metadata": {
    "colab": {},
    "colab_type": "code",
    "id": "xdIW1Y9FmoxJ"
   },
   "outputs": [],
   "source": [
    "#Extracting node information from pandas dataframe\n",
    "node1=list(df[0])\n",
    "node2=list(df[1])"
   ]
  },
  {
   "cell_type": "markdown",
   "metadata": {
    "colab_type": "text",
    "id": "CsmMg8SVwaB6"
   },
   "source": [
    "#### 1) Number of nodes?"
   ]
  },
  {
   "cell_type": "code",
   "execution_count": 0,
   "metadata": {
    "colab": {},
    "colab_type": "code",
    "id": "7WTNNakNmoxQ"
   },
   "outputs": [],
   "source": [
    "#Adding nodes to Directed graph\n",
    "DG.add_nodes_from(node1)\n",
    "DG.add_nodes_from(node2)"
   ]
  },
  {
   "cell_type": "code",
   "execution_count": 0,
   "metadata": {
    "colab": {
     "base_uri": "https://localhost:8080/",
     "height": 35
    },
    "colab_type": "code",
    "id": "HriA1etRmoxW",
    "outputId": "78957d0c-37e7-47b8-b395-4f5c04a15dba"
   },
   "outputs": [
    {
     "name": "stdout",
     "output_type": "stream",
     "text": [
      "Number of Nodes in the Dataset:1005\n"
     ]
    }
   ],
   "source": [
    "print(\"Number of Nodes in the Dataset:\"+str(len(list(DG.nodes))))"
   ]
  },
  {
   "cell_type": "markdown",
   "metadata": {
    "colab_type": "text",
    "id": "m5j6hr7SwyZw"
   },
   "source": [
    "#### Number of edges?"
   ]
  },
  {
   "cell_type": "code",
   "execution_count": 0,
   "metadata": {
    "colab": {},
    "colab_type": "code",
    "id": "lyDb-tTymoxd"
   },
   "outputs": [],
   "source": [
    "#adding edges to graph using tuples created from dataframe\n",
    "edges=list(zip(df[0],df[1]))"
   ]
  },
  {
   "cell_type": "code",
   "execution_count": 0,
   "metadata": {
    "colab": {},
    "colab_type": "code",
    "id": "S4X_-VMamoxg"
   },
   "outputs": [],
   "source": [
    "DG.add_edges_from(edges)"
   ]
  },
  {
   "cell_type": "code",
   "execution_count": 0,
   "metadata": {
    "colab": {
     "base_uri": "https://localhost:8080/",
     "height": 35
    },
    "colab_type": "code",
    "id": "4Kik2Ka0moxj",
    "outputId": "bc189c6a-3ad5-40af-d9fb-48421cfa12d9"
   },
   "outputs": [
    {
     "name": "stdout",
     "output_type": "stream",
     "text": [
      "Number of Edges in the Dataset:25571\n"
     ]
    }
   ],
   "source": [
    "print(\"Number of Edges in the Dataset:\"+str(len(list(DG.edges))))"
   ]
  },
  {
   "cell_type": "markdown",
   "metadata": {
    "colab_type": "text",
    "id": "Y7wADIr7xEjL"
   },
   "source": [
    "#### Number of connected components?\n",
    "Creating undirected graph from directed graph for finding connected components as connected components function in networkx works on undirected graph."
   ]
  },
  {
   "cell_type": "code",
   "execution_count": 0,
   "metadata": {
    "colab": {},
    "colab_type": "code",
    "id": "Coz--Tjlmoxr"
   },
   "outputs": [],
   "source": [
    "g = DG.to_undirected()"
   ]
  },
  {
   "cell_type": "code",
   "execution_count": 0,
   "metadata": {
    "colab": {},
    "colab_type": "code",
    "id": "sCtza6Pwmoxu"
   },
   "outputs": [],
   "source": [
    "p=nx.connected_components(g)"
   ]
  },
  {
   "cell_type": "code",
   "execution_count": 0,
   "metadata": {
    "colab": {
     "base_uri": "https://localhost:8080/",
     "height": 35
    },
    "colab_type": "code",
    "id": "rbdYXNcjmoxy",
    "outputId": "d11c3bb6-e15b-43b9-933d-f6af8d645ea2"
   },
   "outputs": [
    {
     "name": "stdout",
     "output_type": "stream",
     "text": [
      "Number of Connected Components:20\n"
     ]
    }
   ],
   "source": [
    "print(\"Number of Connected Components:\" + str(len(list(p))))"
   ]
  },
  {
   "cell_type": "code",
   "execution_count": 0,
   "metadata": {
    "colab": {},
    "colab_type": "code",
    "id": "QVVfCW6bmox2"
   },
   "outputs": [],
   "source": [
    "#finding largest component in the graph\n",
    "largest_cc = max(nx.connected_components(g), key=len)"
   ]
  },
  {
   "cell_type": "code",
   "execution_count": 0,
   "metadata": {
    "colab": {
     "base_uri": "https://localhost:8080/",
     "height": 35
    },
    "colab_type": "code",
    "id": "oQcgyKSamox7",
    "outputId": "1166e0f4-6557-4272-ae26-50522ae98f23"
   },
   "outputs": [
    {
     "name": "stdout",
     "output_type": "stream",
     "text": [
      "Number of nodes in largest component:986\n"
     ]
    }
   ],
   "source": [
    "print(\"Number of nodes in largest component:\"+str(len(largest_cc)))"
   ]
  },
  {
   "cell_type": "code",
   "execution_count": 0,
   "metadata": {
    "colab": {
     "base_uri": "https://localhost:8080/",
     "height": 35
    },
    "colab_type": "code",
    "id": "DOci2m3KmoyA",
    "outputId": "1ccf9895-faab-4c31-c0ad-16be07be75fa"
   },
   "outputs": [
    {
     "name": "stdout",
     "output_type": "stream",
     "text": [
      "Number of nodes in each connected components:[986, 1, 1, 1, 1, 1, 1, 1, 1, 1, 1, 1, 1, 1, 1, 1, 1, 1, 1, 1]\n"
     ]
    }
   ],
   "source": [
    "#finding number of nodes in each component\n",
    "print(\"Number of nodes in each connected components:\"+str([len(c) for c in sorted(nx.connected_components(g), key=len, reverse=True)]))"
   ]
  },
  {
   "cell_type": "markdown",
   "metadata": {
    "colab_type": "text",
    "id": "NQv79VrUyF_7"
   },
   "source": [
    "#### The diameter (longest shortest path)?"
   ]
  },
  {
   "cell_type": "code",
   "execution_count": 0,
   "metadata": {
    "colab": {},
    "colab_type": "code",
    "id": "kz2enOhDmoyK"
   },
   "outputs": [],
   "source": [
    "#Creating subgraph from amongst connected components which has highest number of nodes\n",
    "Gc = max(nx.connected_component_subgraphs(g), key=len)"
   ]
  },
  {
   "cell_type": "code",
   "execution_count": 0,
   "metadata": {
    "colab": {
     "base_uri": "https://localhost:8080/",
     "height": 35
    },
    "colab_type": "code",
    "id": "bjb95QjqmoyS",
    "outputId": "cdc0ae32-166f-4742-b4a7-44c07d5b65e7"
   },
   "outputs": [
    {
     "name": "stdout",
     "output_type": "stream",
     "text": [
      "Diameter of the subgraph with maximum connected nodes: 7\n"
     ]
    }
   ],
   "source": [
    "print(\"Diameter of the subgraph with maximum connected nodes: \"+str(nx.diameter(Gc)))"
   ]
  },
  {
   "cell_type": "markdown",
   "metadata": {
    "colab_type": "text",
    "id": "BMt6CijhysAM"
   },
   "source": [
    "####  The five nodes with the highest betweeness centrality?"
   ]
  },
  {
   "cell_type": "code",
   "execution_count": 0,
   "metadata": {
    "colab": {},
    "colab_type": "code",
    "id": "LkjeFWj7moyj"
   },
   "outputs": [],
   "source": [
    "#finding betweenness centrality \n",
    "bc=nx.betweenness_centrality(DG)"
   ]
  },
  {
   "cell_type": "code",
   "execution_count": 0,
   "metadata": {
    "colab": {},
    "colab_type": "code",
    "id": "CHu0MWN-moyq"
   },
   "outputs": [],
   "source": [
    "#sorting betweenness centrality into descending order\n",
    "bcmax1=(sorted(bc.items(), key=lambda x: x[1], reverse=True))"
   ]
  },
  {
   "cell_type": "code",
   "execution_count": 0,
   "metadata": {
    "colab": {},
    "colab_type": "code",
    "id": "9OYkx7CfmozQ"
   },
   "outputs": [],
   "source": [
    "#picking up top 5 nodes\n",
    "y=[]\n",
    "for i in range(5):\n",
    "    y.append(bcmax1[:5][i][0])"
   ]
  },
  {
   "cell_type": "code",
   "execution_count": 0,
   "metadata": {
    "colab": {
     "base_uri": "https://localhost:8080/",
     "height": 54
    },
    "colab_type": "code",
    "id": "3K3rlD6NmozU",
    "outputId": "9985522f-d6e5-4356-e352-b39d0e03ac18"
   },
   "outputs": [
    {
     "name": "stdout",
     "output_type": "stream",
     "text": [
      "Following are the top 5 nodes with highest betweeness centrality:\n",
      "[160, 86, 5, 121, 62]\n"
     ]
    }
   ],
   "source": [
    "print(\"Following are the top 5 nodes with highest betweeness centrality:\\n\" + str(y))"
   ]
  },
  {
   "cell_type": "markdown",
   "metadata": {
    "colab_type": "text",
    "id": "opmO_MtGzw3n"
   },
   "source": [
    "#### The five nodes with highest PageRank?"
   ]
  },
  {
   "cell_type": "code",
   "execution_count": 0,
   "metadata": {
    "colab": {},
    "colab_type": "code",
    "id": "-tYGEoZTmozY"
   },
   "outputs": [],
   "source": [
    "#calculating page rank of each node\n",
    "pg=nx.pagerank(g, alpha=1)"
   ]
  },
  {
   "cell_type": "code",
   "execution_count": 0,
   "metadata": {
    "colab": {},
    "colab_type": "code",
    "id": "yyiPWrWkmozc"
   },
   "outputs": [],
   "source": [
    "#sorting pagerank into descending order\n",
    "pgmax=(sorted(pg.items(), key=lambda x: x[1], reverse=True))"
   ]
  },
  {
   "cell_type": "code",
   "execution_count": 0,
   "metadata": {
    "colab": {},
    "colab_type": "code",
    "id": "wDJAmTlzmozf"
   },
   "outputs": [],
   "source": [
    "#picking top 5 nodes with the highest pagerank.\n",
    "p=[]\n",
    "for i in range(5):\n",
    "    p.append(pgmax[:5][i][0])"
   ]
  },
  {
   "cell_type": "code",
   "execution_count": 0,
   "metadata": {
    "colab": {
     "base_uri": "https://localhost:8080/",
     "height": 54
    },
    "colab_type": "code",
    "id": "u94r8Jmvmozj",
    "outputId": "2eac3f6b-1248-47fc-abaa-7d13d61da897"
   },
   "outputs": [
    {
     "name": "stdout",
     "output_type": "stream",
     "text": [
      "Nodes with highest page rank are:\n",
      "[160, 121, 82, 107, 86]\n"
     ]
    }
   ],
   "source": [
    "print(\"Nodes with highest page rank are:\\n\" + str(p))"
   ]
  },
  {
   "cell_type": "markdown",
   "metadata": {
    "colab_type": "text",
    "id": "Owdo-ixV0Nmt"
   },
   "source": [
    "#### The five nodes with the highest authority score according to HITS?"
   ]
  },
  {
   "cell_type": "code",
   "execution_count": 0,
   "metadata": {
    "colab": {},
    "colab_type": "code",
    "id": "UTHTOLEumozn"
   },
   "outputs": [],
   "source": [
    "#Calculating Authority and Hub Score of all the nodes in the graph\n",
    "h,a=nx.hits(DG)"
   ]
  },
  {
   "cell_type": "code",
   "execution_count": 0,
   "metadata": {
    "colab": {},
    "colab_type": "code",
    "id": "ZYcxorpsmozq"
   },
   "outputs": [],
   "source": [
    "#Sort in descending order authority score obtained from HITS \n",
    "amax=(sorted(a.items(), key=lambda x: x[1], reverse=True))"
   ]
  },
  {
   "cell_type": "code",
   "execution_count": 0,
   "metadata": {
    "colab": {},
    "colab_type": "code",
    "id": "326I4-YVmozs"
   },
   "outputs": [],
   "source": [
    "#pick top 5 nodes with highest authority score\n",
    "au=[]\n",
    "for i in range(5):\n",
    "    au.append(amax[:5][i][0])"
   ]
  },
  {
   "cell_type": "code",
   "execution_count": 0,
   "metadata": {
    "colab": {
     "base_uri": "https://localhost:8080/",
     "height": 54
    },
    "colab_type": "code",
    "id": "uMby-0Wgmozu",
    "outputId": "64b84ff9-f519-43c5-8573-99304d1788cf"
   },
   "outputs": [
    {
     "name": "stdout",
     "output_type": "stream",
     "text": [
      "Nodes with highest Authority Score are:\n",
      "[160, 107, 62, 434, 121]\n"
     ]
    }
   ],
   "source": [
    "print(\"Nodes with highest Authority Score are:\\n\" + str(au))"
   ]
  },
  {
   "cell_type": "markdown",
   "metadata": {
    "colab_type": "text",
    "id": "TdWbLapw0spX"
   },
   "source": [
    "#### The number of cliques in the graph?"
   ]
  },
  {
   "cell_type": "code",
   "execution_count": 0,
   "metadata": {
    "colab": {
     "base_uri": "https://localhost:8080/",
     "height": 54
    },
    "colab_type": "code",
    "id": "m7QV-CQVmoz9",
    "outputId": "88ce0f68-1072-45d5-be46-f2ec45dd1e1c"
   },
   "outputs": [
    {
     "name": "stdout",
     "output_type": "stream",
     "text": [
      "Number of Cliques in a graph:\n",
      "37490583\n"
     ]
    }
   ],
   "source": [
    "#Using enumerate all cliques function we find number of cliques in the graph.\n",
    "print(\"Number of Cliques in a graph:\\n\"+str(len(list(nx.enumerate_all_cliques(g)))))      \n",
    "  "
   ]
  },
  {
   "cell_type": "markdown",
   "metadata": {
    "colab_type": "text",
    "id": "zqBkTzOz34jx"
   },
   "source": [
    "#### The number of maximal cliques the node with the highest PageRank belongs in?"
   ]
  },
  {
   "cell_type": "code",
   "execution_count": 0,
   "metadata": {
    "colab": {
     "base_uri": "https://localhost:8080/",
     "height": 35
    },
    "colab_type": "code",
    "id": "-I7CbbUKmo0C",
    "outputId": "94067e10-32bb-41c9-9ac4-a4698db6a71f"
   },
   "outputs": [
    {
     "data": {
      "text/plain": [
       "9356"
      ]
     },
     "execution_count": 45,
     "metadata": {
      "tags": []
     },
     "output_type": "execute_result"
    }
   ],
   "source": [
    "#Using number of cliques function in networkx library,number of maximal cliques with the highest pageranked node can be found as below\n",
    "print(\"Number of Maximal Cliques in a graph containing node with the highest page rank:\\n\"+ str(nx.number_of_cliques(g,nodes=p[0]))"
   ]
  }
 ],
 "metadata": {
  "colab": {
   "name": "Program2.ipynb",
   "provenance": [],
   "version": "0.3.2"
  },
  "kernelspec": {
   "display_name": "Python 3",
   "language": "python",
   "name": "python3"
  },
  "language_info": {
   "codemirror_mode": {
    "name": "ipython",
    "version": 3
   },
   "file_extension": ".py",
   "mimetype": "text/x-python",
   "name": "python",
   "nbconvert_exporter": "python",
   "pygments_lexer": "ipython3",
   "version": "3.6.5"
  }
 },
 "nbformat": 4,
 "nbformat_minor": 1
}
